{
 "cells": [
  {
   "cell_type": "code",
   "execution_count": 1,
   "metadata": {},
   "outputs": [
    {
     "name": "stdout",
     "output_type": "stream",
     "text": [
      "Defaulting to user installation because normal site-packages is not writeable\n",
      "Requirement already satisfied: pydub in /home/water/.local/lib/python3.10/site-packages (0.25.1)\n",
      "Note: you may need to restart the kernel to use updated packages.\n"
     ]
    }
   ],
   "source": [
    "pip install pydub"
   ]
  },
  {
   "cell_type": "code",
   "execution_count": 2,
   "metadata": {},
   "outputs": [
    {
     "name": "stderr",
     "output_type": "stream",
     "text": [
      "/home/water/.local/lib/python3.10/site-packages/pydub/utils.py:170: RuntimeWarning: Couldn't find ffmpeg or avconv - defaulting to ffmpeg, but may not work\n",
      "  warn(\"Couldn't find ffmpeg or avconv - defaulting to ffmpeg, but may not work\", RuntimeWarning)\n"
     ]
    }
   ],
   "source": [
    "import numpy as np\n",
    "import scipy as sp\n",
    "from matplotlib import pyplot as plt\n",
    "from PIL import Image, ImageEnhance\n",
    "from pydub import AudioSegment"
   ]
  },
  {
   "cell_type": "code",
   "execution_count": 3,
   "metadata": {},
   "outputs": [],
   "source": [
    "fs = 48000\n",
    "length = 102191\n",
    "s = np.random.random(size = length) * 2 - 1\n",
    "sp.io.wavfile.write('./data/whitenoise.wav', fs, s) #音量注意"
   ]
  },
  {
   "cell_type": "code",
   "execution_count": 4,
   "metadata": {},
   "outputs": [
    {
     "name": "stdout",
     "output_type": "stream",
     "text": [
      "102191\n",
      "102191\n",
      "8000\n",
      "48000\n",
      "[ 0.00953998 -0.88073452  0.19882792 ...  0.53413478  0.06032148\n",
      "  0.14051813]\n"
     ]
    }
   ],
   "source": [
    "f1, speech1 = sp.io.wavfile.read('./result/speech1.wav')\n",
    "f2, noise = sp.io.wavfile.read('./data/whitenoise.wav')\n",
    "print(np.size(speech1))\n",
    "print(np.size(noise))\n",
    "print(f1)\n",
    "print(f2)\n",
    "print(noise)"
   ]
  },
  {
   "cell_type": "code",
   "execution_count": 5,
   "metadata": {},
   "outputs": [],
   "source": [
    "mix_1 = speech1 * 0.8 + noise * 0.2\n",
    "mix_2 = speech1 * 0.3 + noise * 0.7"
   ]
  },
  {
   "cell_type": "code",
   "execution_count": 6,
   "metadata": {},
   "outputs": [],
   "source": [
    "sp.io.wavfile.write('./data/mix_1.wav', fs, mix_1) \n",
    "sp.io.wavfile.write('./data/mix_2.wav', fs, mix_2) "
   ]
  },
  {
   "cell_type": "code",
   "execution_count": 7,
   "metadata": {},
   "outputs": [],
   "source": [
    "z = np.array([mix_1, mix_2])\n",
    "sigma = np.linalg.eig(np.cov(z))\n",
    "D = sigma[0]\n",
    "D = 1/np.sqrt(D)\n",
    "E = sigma[1]\n",
    "tmp = np.dot(E, np.diag(D))\n",
    "V = np.dot(tmp, E.T)\n",
    "z = np.dot(V,z)\n",
    "size = len(speech1)"
   ]
  },
  {
   "cell_type": "code",
   "execution_count": 8,
   "metadata": {},
   "outputs": [
    {
     "data": {
      "image/png": "[encoded data removed]",
      "text/plain": [
       "<Figure size 640x480 with 1 Axes>"
      ]
     },
     "metadata": {},
     "output_type": "display_data"
    }
   ],
   "source": [
    "w = np.array([1,1])\n",
    "wT = w.T\n",
    "wT = wT/np.linalg.norm(wT)\n",
    "former = w\n",
    "while(1):\n",
    "  wT = w.T\n",
    "  tmp = np.power(np.dot(wT, z), 3)\n",
    "  tmp = np.dot(z, tmp)\n",
    "  tmp = tmp/size - 3*w\n",
    "  tmp /= np.linalg.norm(tmp)\n",
    "  w = tmp\n",
    "  if(np.isclose(w,former).all() or np.isclose(w,former*(-1)).all()):\n",
    "    break\n",
    "  else:\n",
    "    former = w\n",
    "plt.plot(np.dot(w,z))\n",
    "sp.io.wavfile.write('./result/speechkadai4.wav', f1, np.dot(w,z))\n",
    "\n",
    "w = np.array([0.5,0.5])\n",
    "wT = w.T\n",
    "wT = wT/np.linalg.norm(wT)\n",
    "former = w\n",
    "while(1):\n",
    "  wT = w.T\n",
    "  tmp = np.power(np.dot(wT, z), 3)\n",
    "  tmp = np.dot(z, tmp)\n",
    "  tmp = tmp/size - 3*w\n",
    "  tmp /= np.linalg.norm(tmp)\n",
    "  w = tmp\n",
    "  if(np.isclose(w,former).all() or np.isclose(w,former*(-1)).all()):\n",
    "    break\n",
    "  else:\n",
    "    former = w\n",
    "plt.plot(np.dot(w,z))\n",
    "sp.io.wavfile.write('./result/noise.wav', f2, np.dot(w,z))"
   ]
  },
  {
   "cell_type": "code",
   "execution_count": null,
   "metadata": {},
   "outputs": [],
   "source": []
  }
 ],
 "metadata": {
  "kernelspec": {
   "display_name": "Python 3",
   "language": "python",
   "name": "python3"
  },
  "language_info": {
   "codemirror_mode": {
    "name": "ipython",
    "version": 3
   },
   "file_extension": ".py",
   "mimetype": "text/x-python",
   "name": "python",
   "nbconvert_exporter": "python",
   "pygments_lexer": "ipython3",
   "version": "3.10.6"
  },
  "orig_nbformat": 4,
  "vscode": {
   "interpreter": {
    "hash": "916dbcbb3f70747c44a77c7bcd40155683ae19c65e1c03b4aa3499c5328201f1"
   }
  }
 },
 "nbformat": 4,
 "nbformat_minor": 2
}
